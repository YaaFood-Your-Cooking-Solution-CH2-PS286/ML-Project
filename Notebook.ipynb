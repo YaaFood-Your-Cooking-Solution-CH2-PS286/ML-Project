{
  "cells": [
    {
      "cell_type": "code",
      "execution_count": null,
      "metadata": {
        "id": "2Cq32MSDvD8V"
      },
      "outputs": [],
      "source": [
        "# Download the dataset\n",
        "file_id = '1TLPrez6to0VRQCxt5L4NgK4tejMBYbTA'\n",
        "\n",
        "output_file = 'Dataset.zip'\n",
        "\n",
        "# Generate the download link\n",
        "download_link = f'https://drive.google.com/uc?id={file_id}'\n",
        "\n",
        "# Download the file\n",
        "!gdown $download_link -O $output_file"
      ]
    },
    {
      "cell_type": "code",
      "execution_count": null,
      "metadata": {
        "id": "U3ifes8XxSAt"
      },
      "outputs": [],
      "source": [
        "!unzip /content/Dataset.zip"
      ]
    },
    {
      "cell_type": "code",
      "execution_count": null,
      "metadata": {
        "id": "14g5Cnky1DK7"
      },
      "outputs": [],
      "source": [
        "import os\n",
        "import numpy as np\n",
        "import tensorflow as tf\n",
        "import tensorflow_hub as hub\n",
        "import matplotlib.pyplot as plt\n",
        "from keras.utils import load_img, img_to_array\n",
        "from keras.preprocessing.image import ImageDataGenerator"
      ]
    },
    {
      "cell_type": "code",
      "execution_count": null,
      "metadata": {
        "id": "gBV1h9-K5JLj"
      },
      "outputs": [],
      "source": [
        "train_dir = \"/content/Dataset/train/\"\n",
        "validation_dir = \"/content/Dataset/validation/\"\n",
        "\n",
        "sorted_labels = [\n",
        "    'ayam', 'bawang bombay', 'bawang merah', 'bawang putih', 'bayam', 'brokoli',\n",
        "    'buncis', 'cabai', 'daun singkong', 'ikan', 'jagung',\n",
        "    'jamur',  'kacang panjang', 'kambing', 'kangkung', 'kentang', 'kol', 'mie', 'nasi',\n",
        "    'sapi', 'sawi', 'serai',  'tahu', 'taoge', 'telur', 'tempe', 'terong', 'timun',\n",
        "    'tomat',  'udang', 'wortel'\n",
        "]\n",
        "\n",
        "# train directories\n",
        "train_directories = {label: os.path.join(train_dir, label) for label in sorted_labels}\n",
        "\n",
        "# validation directories\n",
        "validation_directories = {label: os.path.join(validation_dir, label) for label in sorted_labels}\n",
        "\n",
        "for label in sorted_labels:\n",
        "    print('Total training', label, 'images:', len(os.listdir(train_directories[label])))\n",
        "\n",
        "for label in sorted_labels:\n",
        "    print('Total validation', label, 'images:', len(os.listdir(validation_directories[label])))\n",
        "\n",
        "jamur_file = os.listdir(train_directories['jamur'])\n",
        "print(jamur_file[:5])"
      ]
    },
    {
      "cell_type": "code",
      "source": [
        "# Feature extractor layer\n",
        "feature_extractor_url = 'https://tfhub.dev/google/efficientnet/b7/feature-vector/1'\n",
        "feature_extractor_layer = hub.KerasLayer(feature_extractor_url, input_shape=[512,512,3])\n",
        "feature_extractor_layer.trainable = False"
      ],
      "metadata": {
        "id": "CbuE6EDZ7E72"
      },
      "execution_count": null,
      "outputs": []
    },
    {
      "cell_type": "code",
      "execution_count": null,
      "metadata": {
        "id": "MnC4UEPN5ksH"
      },
      "outputs": [],
      "source": [
        "# Model\n",
        "model = tf.keras.Sequential([\n",
        "    feature_extractor_layer,\n",
        "    tf.keras.layers.Dense(1024, activation=\"relu\"),\n",
        "    tf.keras.layers.Dropout(0.25),\n",
        "    tf.keras.layers.Dense(256, activation=\"relu\"),\n",
        "    tf.keras.layers.Dense(31, activation=\"softmax\")\n",
        "])\n",
        "\n",
        "model.summary()"
      ]
    },
    {
      "cell_type": "code",
      "execution_count": null,
      "metadata": {
        "id": "bgI6MpXD9d-3"
      },
      "outputs": [],
      "source": [
        "model.compile(optimizer= 'Adam',\n",
        "              loss= 'categorical_crossentropy',\n",
        "              metrics= ['accuracy'])"
      ]
    },
    {
      "cell_type": "code",
      "execution_count": null,
      "metadata": {
        "id": "kMC_LwXL9qkY"
      },
      "outputs": [],
      "source": [
        "# Add data-augmentation parameters to ImageDataGenerator\n",
        "train_datagen = ImageDataGenerator(rescale= 1./255,\n",
        "                                   rotation_range= 50,\n",
        "                                   width_shift_range= 0.3,\n",
        "                                   height_shift_range= 0.3,\n",
        "                                   shear_range= 0.3,\n",
        "                                   zoom_range= 0.3,\n",
        "                                   horizontal_flip= True,\n",
        "                                   fill_mode= 'nearest')\n",
        "\n",
        "# Flow training images in batches of 31 using train_datagen generator\n",
        "train_generator = train_datagen.flow_from_directory(train_dir,\n",
        "                                                    batch_size= 31,\n",
        "                                                    class_mode= 'categorical',\n",
        "                                                    target_size= (512, 512))\n",
        "\n",
        "validation_datagen = ImageDataGenerator(rescale = 1./255)\n",
        "\n",
        "# Flow validation images in batches of 31 using validation_datagen generator\n",
        "validation_generator = validation_datagen.flow_from_directory(validation_dir,\n",
        "                                                    batch_size= 31,\n",
        "                                                    class_mode= 'categorical',\n",
        "                                                    target_size= (512, 512))"
      ]
    },
    {
      "cell_type": "code",
      "execution_count": null,
      "metadata": {
        "id": "n-q3Wmf9925C"
      },
      "outputs": [],
      "source": [
        "class Callback(tf.keras.callbacks.Callback):\n",
        "  def on_epoch_end(self, epoch, logs={}):\n",
        "    if(logs.get('accuracy')>0.95):\n",
        "      print(\"\\nReached 95% accuracy so cancelling training!\")\n",
        "      self.model.stop_training = True\n",
        "\n",
        "callbacks = Callback()\n",
        "\n",
        "# Train the model\n",
        "history = model.fit(train_generator,\n",
        "                    epochs= 20,\n",
        "                    validation_data= validation_generator,\n",
        "                    verbose= 1,\n",
        "                    callbacks= callbacks)"
      ]
    },
    {
      "cell_type": "code",
      "execution_count": null,
      "metadata": {
        "id": "yZQnbrMxeMNL"
      },
      "outputs": [],
      "source": [
        "# Plot the results\n",
        "acc = history.history['accuracy']\n",
        "val_acc = history.history['val_accuracy']\n",
        "loss = history.history['loss']\n",
        "val_loss = history.history['val_loss']\n",
        "\n",
        "epochs = range(len(acc))\n",
        "\n",
        "# Plot the accuracy\n",
        "plt.plot(epochs, acc, 'r', label='Training accuracy')\n",
        "plt.plot(epochs, val_acc, 'b', label='Validation accuracy')\n",
        "plt.title('Training and validation accuracy')\n",
        "plt.legend(loc=0)\n",
        "plt.figure()\n",
        "\n",
        "# Plot the loss\n",
        "plt.plot(epochs, loss, 'r', label='Training loss')\n",
        "plt.plot(epochs, val_loss, 'b', label='Validation loss')\n",
        "plt.title('Training and validation loss')\n",
        "plt.legend(loc=0)\n",
        "plt.figure()\n",
        "\n",
        "plt.show()"
      ]
    },
    {
      "cell_type": "code",
      "execution_count": null,
      "metadata": {
        "id": "T-f_qcWmegWs"
      },
      "outputs": [],
      "source": [
        "# Predictions from validation folder\n",
        "from keras.preprocessing import image\n",
        "\n",
        "for label in sorted_labels:\n",
        "  folder = validation_directories[label]\n",
        "\n",
        "  for path_file in os.listdir(folder):\n",
        "    # Get value from image\n",
        "    path_file = os.path.join(folder, path_file)\n",
        "    img = image.load_img(path_file, target_size=(512, 512))\n",
        "    x = img_to_array(img)\n",
        "    x = x/255\n",
        "    x = np.expand_dims(x, axis=0)\n",
        "\n",
        "    # Predict the image label\n",
        "    images = np.vstack([x])\n",
        "    classes = model.predict(images, batch_size=31)\n",
        "\n",
        "    # Take the class index with the highest probability\n",
        "    predicted_class_index = classes.argmax()\n",
        "\n",
        "    # Convert class indices to label\n",
        "    predicted_label = sorted_labels[predicted_class_index]\n",
        "\n",
        "    print(\"Label:\", label, \"Predicted Label:\", predicted_label)"
      ]
    },
    {
      "cell_type": "code",
      "execution_count": null,
      "metadata": {
        "id": "FW-5TWhxgsWg"
      },
      "outputs": [],
      "source": [
        "# Test the model using the uploaded image\n",
        "from google.colab import files\n",
        "from PIL import Image as PILImage\n",
        "\n",
        "uploaded = files.upload()\n",
        "\n",
        "for fn in uploaded.keys():\n",
        "  # Get value from image\n",
        "  path = '/content/' + fn\n",
        "  img = PILImage.open(path)\n",
        "  img = image.load_img(path, target_size=(512, 512))\n",
        "\n",
        "  # Display image\n",
        "  plt.imshow(img)\n",
        "  plt.axis('off')\n",
        "  plt.show()\n",
        "\n",
        "  x = img_to_array(img)\n",
        "  x = x/255\n",
        "  x = np.expand_dims(x, axis=0)\n",
        "\n",
        "  # Predict the image label\n",
        "  images = np.vstack([x])\n",
        "  classes = model.predict(images, batch_size=31)\n",
        "\n",
        "  # Sort the classes from highest probability\n",
        "  sorted_classes = np.argsort(classes)[0, ::-1]\n",
        "\n",
        "  # Print the detected ingredients with a threshold of 0.05\n",
        "  print(\"Ingredients detected:\")\n",
        "  for index in sorted_classes:\n",
        "    label = sorted_labels[index]\n",
        "    prob = classes[0, index]\n",
        "    if prob > 0.05:\n",
        "      print(f\"{label}: {prob:.4f}\")\n",
        "\n",
        "  # Delete images after use\n",
        "  os.remove(path)"
      ]
    },
    {
      "cell_type": "code",
      "execution_count": null,
      "metadata": {
        "id": "C9oWx7yqeRzL"
      },
      "outputs": [],
      "source": [
        "# Save the model\n",
        "model.save(\"Model.h5\")"
      ]
    },
    {
      "cell_type": "code",
      "execution_count": null,
      "metadata": {
        "id": "_yYoSzC43IUp"
      },
      "outputs": [],
      "source": [
        "# Move the saved model to Google Drive\n",
        "from google.colab import drive\n",
        "drive.mount('/content/gdrive')\n",
        "\n",
        "import shutil\n",
        "\n",
        "local_file_path = '/content/Model.h5'\n",
        "drive_path = '/content/gdrive/My Drive/'\n",
        "\n",
        "shutil.copy(local_file_path, drive_path)"
      ]
    }
  ],
  "metadata": {
    "accelerator": "GPU",
    "colab": {
      "provenance": []
    },
    "kernelspec": {
      "display_name": "Python 3",
      "name": "python3"
    },
    "language_info": {
      "name": "python"
    }
  },
  "nbformat": 4,
  "nbformat_minor": 0
}